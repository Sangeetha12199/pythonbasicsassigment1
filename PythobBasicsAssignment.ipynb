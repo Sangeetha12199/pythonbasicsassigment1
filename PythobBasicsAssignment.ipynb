{
  "nbformat": 4,
  "nbformat_minor": 0,
  "metadata": {
    "colab": {
      "provenance": []
    },
    "kernelspec": {
      "name": "python3",
      "display_name": "Python 3"
    },
    "language_info": {
      "name": "python"
    }
  },
  "cells": [
    {
      "cell_type": "markdown",
      "source": [
        "1 What is Python, and why is it popular ?\n",
        "\n",
        "- Python is a programming language. It is popular because it is easy to\n",
        "\n",
        "understand\n",
        "\n",
        "2.What is an interpreter in Python\n",
        "\n",
        "- Intrepretor in python is an engine that checks the syntax line by line and throws error if there is any syntax error during run time.\n",
        "\n",
        "3.What are pre-defined keywords in Python\n",
        "\n",
        "- Keywords are reserved words in Python that have special meanings and cannot be used as identifiers (variable names, function names, etc.).\n",
        "\n",
        "Examples of keywords include if, else, while, for, def, class, import, try, except, return, True, False, None, etc.\n",
        "\n",
        "4.Can keywords be used as variable names ?\n",
        "\n",
        "- No, keywords can never be used as variable name as they already have special meaning\n",
        "\n",
        "\n",
        "5.What is mutability in Python ?\n",
        "\n",
        "- Mutability in python is concept that referes to objects  which can be modified\n",
        " Example : list , varibales\n",
        "\n",
        "\n",
        "6.Why are lists mutable, but tuples are immutable ?\n",
        "\n",
        "-Lists are designed to store collections of items that may need to be changed over time.\n",
        "\n",
        "Tuples are used when the data should not be modified, often for safety, clarity, or performance.\n",
        "\n",
        "\n",
        "\n",
        "7.What is the difference between “==” and “is” operators in Python\n",
        "\n",
        "- == Checks if the values of two variables are equal.\n",
        "\n",
        "It does not care whether they are stored at the same memory location.\n",
        "\n",
        "is Checks whether two variables point to the exact same object in memory.\n",
        "\n",
        "It checks identity, not value.\n",
        "\n",
        "8. What are logical operators in Python ?\n",
        "- Logical operators in python combine conditional statement\n",
        "\n",
        "and --> returns true  if both  conditions are true.\n",
        "or --> returns true if atleast one of the conditions is true.\n",
        "not --> reverses the boolean value\n",
        "\n",
        "9. What is type casting in Python\n",
        "- Type Casting changing the data type of a variable.\n",
        "example x = 5\n",
        "y = float(x)\n",
        " output will be y = 5.0\n",
        "\n",
        "10.  What is the difference between implicit and explicit type casting\n",
        "- In Implicit type casting python automatically converts the data type of one value to another without user involvment. Whereas in Explicit type casting user converts the data type of a variable using the built - in functions.\n",
        "\n",
        "11. What is the purpose of conditional statements in Python\n",
        "- Conditional statements control the flow of a program. They  execute code based on the evaluation of one or more conditions\n",
        "\n",
        "Python supports conditional statements such as if, elif (else if), and else to control the flow of execution.\n",
        "\n",
        "12. How does the elif statement work.\n",
        "- Python checks each condition from top to bottom.\n",
        "\n",
        "As soon as one condition is True, it runs that block and skips the rest.\n",
        "\n",
        "If none are true, it runs the else block (if present).\n",
        "\n",
        "\n",
        "13. What is the difference between for and while loops.\n",
        "- “for” loops are used for iterating over a sequence of elements, while “while” loops are used for executing code until a specified condition becomes False.\n",
        "\n",
        "14. Describe a scenario where a while loop is more suitable than a for loop.\n",
        "- When youou don’t know in advance how many times you need to repeat the loop.\n",
        "You want the loop to run based on a condition being true, not based on a fixed number of items."
      ],
      "metadata": {
        "id": "Wd3fQ7ZeSwES"
      }
    },
    {
      "cell_type": "code",
      "execution_count": null,
      "metadata": {
        "id": "Q0TDeDqNISM3"
      },
      "outputs": [],
      "source": [
        "PRACTICAL QUESTIONS:"
      ]
    },
    {
      "cell_type": "markdown",
      "source": [
        "1. Write a Python program to print \"Hello, World\""
      ],
      "metadata": {
        "id": "QVKVGCbhIvwb"
      }
    },
    {
      "cell_type": "code",
      "source": [
        "print(\"Hello, World\")"
      ],
      "metadata": {
        "colab": {
          "base_uri": "https://localhost:8080/"
        },
        "id": "JYv9TH_xI12u",
        "outputId": "b228a228-0f9b-4e8f-cedf-7da9f7888192"
      },
      "execution_count": 1,
      "outputs": [
        {
          "output_type": "stream",
          "name": "stdout",
          "text": [
            "Hello, World\n"
          ]
        }
      ]
    },
    {
      "cell_type": "markdown",
      "source": [
        "2. Write a Python program that displays your name and age"
      ],
      "metadata": {
        "id": "rWfbKjMmJBq4"
      }
    },
    {
      "cell_type": "code",
      "source": [
        "print(\"Name : Sangeetha\",\"Age : 25\",sep = ';')"
      ],
      "metadata": {
        "colab": {
          "base_uri": "https://localhost:8080/"
        },
        "id": "u5l7J5Z3JGvn",
        "outputId": "98f79366-1974-4c4f-84b1-9c39abfb4a42"
      },
      "execution_count": 3,
      "outputs": [
        {
          "output_type": "stream",
          "name": "stdout",
          "text": [
            "Name : Sangeetha;Age : 25\n"
          ]
        }
      ]
    },
    {
      "cell_type": "markdown",
      "source": [
        "3. Write code to print all the pre-defined keywords in Python using the keyword library.\n"
      ],
      "metadata": {
        "id": "z_w8mzC7JcUi"
      }
    },
    {
      "cell_type": "code",
      "source": [
        "import keyword\n",
        "\n",
        "# Print all Python keywords\n",
        "print(\"Python Keywords:\")\n",
        "print(keyword.kwlist)"
      ],
      "metadata": {
        "colab": {
          "base_uri": "https://localhost:8080/"
        },
        "id": "OKY-Nm5-JjTb",
        "outputId": "754b5109-1fa1-437c-cf01-f6868536612f"
      },
      "execution_count": 46,
      "outputs": [
        {
          "output_type": "stream",
          "name": "stdout",
          "text": [
            "Python Keywords:\n",
            "['False', 'None', 'True', 'and', 'as', 'assert', 'async', 'await', 'break', 'class', 'continue', 'def', 'del', 'elif', 'else', 'except', 'finally', 'for', 'from', 'global', 'if', 'import', 'in', 'is', 'lambda', 'nonlocal', 'not', 'or', 'pass', 'raise', 'return', 'try', 'while', 'with', 'yield']\n"
          ]
        }
      ]
    },
    {
      "cell_type": "markdown",
      "source": [
        "4. Write a program that checks if a given word is a Python keyword.\n"
      ],
      "metadata": {
        "id": "qA3y3e4kJ6gG"
      }
    },
    {
      "cell_type": "code",
      "source": [
        "word = input(\"Enter a word to check if it's a Python keyword: \")\n",
        "\n",
        "\n",
        "if keyword.iskeyword(word):\n",
        "    print(f\"'{word}' is a Python keyword.\")\n",
        "else:\n",
        "    print(f\" '{word}' is NOT a Python keyword.\")"
      ],
      "metadata": {
        "colab": {
          "base_uri": "https://localhost:8080/"
        },
        "id": "iAYVWGkSKFEs",
        "outputId": "d145a7e4-9d92-47e8-b305-d4c2ccdc3c5c"
      },
      "execution_count": 48,
      "outputs": [
        {
          "output_type": "stream",
          "name": "stdout",
          "text": [
            "Enter a word to check if it's a Python keyword: pinky\n",
            " 'pinky' is NOT a Python keyword.\n"
          ]
        }
      ]
    },
    {
      "cell_type": "markdown",
      "source": [
        " 5.Create a list and tuple in Python, and demonstrate how attempting to change an element works differently\n",
        "for each."
      ],
      "metadata": {
        "id": "r0qh6hAqKFhp"
      }
    },
    {
      "cell_type": "code",
      "source": [
        "list1 =[1,2,3,4,5]\n",
        "print(list1)\n",
        "list1[0]=10\n",
        "print(list1)\n",
        "\n",
        "\n",
        "tuple1 = (1,2,3,4,5)\n",
        "print(tuple1)\n",
        "tuple1[0]=10\n",
        "print(tuple1)\n"
      ],
      "metadata": {
        "colab": {
          "base_uri": "https://localhost:8080/",
          "height": 245
        },
        "id": "LQBNuvNwKOLt",
        "outputId": "66e52066-812b-40bd-f73b-20a4368dc7cd"
      },
      "execution_count": 7,
      "outputs": [
        {
          "output_type": "stream",
          "name": "stdout",
          "text": [
            "[1, 2, 3, 4, 5]\n",
            "[10, 2, 3, 4, 5]\n",
            "(1, 2, 3, 4, 5)\n"
          ]
        },
        {
          "output_type": "error",
          "ename": "TypeError",
          "evalue": "'tuple' object does not support item assignment",
          "traceback": [
            "\u001b[0;31m---------------------------------------------------------------------------\u001b[0m",
            "\u001b[0;31mTypeError\u001b[0m                                 Traceback (most recent call last)",
            "\u001b[0;32m<ipython-input-7-1575096238>\u001b[0m in \u001b[0;36m<cell line: 0>\u001b[0;34m()\u001b[0m\n\u001b[1;32m      7\u001b[0m \u001b[0mtuple1\u001b[0m \u001b[0;34m=\u001b[0m \u001b[0;34m(\u001b[0m\u001b[0;36m1\u001b[0m\u001b[0;34m,\u001b[0m\u001b[0;36m2\u001b[0m\u001b[0;34m,\u001b[0m\u001b[0;36m3\u001b[0m\u001b[0;34m,\u001b[0m\u001b[0;36m4\u001b[0m\u001b[0;34m,\u001b[0m\u001b[0;36m5\u001b[0m\u001b[0;34m)\u001b[0m\u001b[0;34m\u001b[0m\u001b[0;34m\u001b[0m\u001b[0m\n\u001b[1;32m      8\u001b[0m \u001b[0mprint\u001b[0m\u001b[0;34m(\u001b[0m\u001b[0mtuple1\u001b[0m\u001b[0;34m)\u001b[0m\u001b[0;34m\u001b[0m\u001b[0;34m\u001b[0m\u001b[0m\n\u001b[0;32m----> 9\u001b[0;31m \u001b[0mtuple1\u001b[0m\u001b[0;34m[\u001b[0m\u001b[0;36m0\u001b[0m\u001b[0;34m]\u001b[0m\u001b[0;34m=\u001b[0m\u001b[0;36m10\u001b[0m\u001b[0;34m\u001b[0m\u001b[0;34m\u001b[0m\u001b[0m\n\u001b[0m\u001b[1;32m     10\u001b[0m \u001b[0mprint\u001b[0m\u001b[0;34m(\u001b[0m\u001b[0mtuple1\u001b[0m\u001b[0;34m)\u001b[0m\u001b[0;34m\u001b[0m\u001b[0;34m\u001b[0m\u001b[0m\n",
            "\u001b[0;31mTypeError\u001b[0m: 'tuple' object does not support item assignment"
          ]
        }
      ]
    },
    {
      "cell_type": "markdown",
      "source": [
        "6.Write a function to demonstrate the behavior of mutable and immutable arguments"
      ],
      "metadata": {
        "id": "JXfS2juoKnbu"
      }
    },
    {
      "cell_type": "code",
      "source": [
        "list1\n",
        "list1.append(9)\n",
        "list1\n",
        "\n",
        "tuple1\n",
        "tuple1.append(9)\n",
        "tuple1"
      ],
      "metadata": {
        "colab": {
          "base_uri": "https://localhost:8080/",
          "height": 193
        },
        "id": "7K0tSJzjK2Gm",
        "outputId": "696a3805-19d6-4d6b-84be-8675ae49c762"
      },
      "execution_count": 18,
      "outputs": [
        {
          "output_type": "error",
          "ename": "AttributeError",
          "evalue": "'tuple' object has no attribute 'append'",
          "traceback": [
            "\u001b[0;31m---------------------------------------------------------------------------\u001b[0m",
            "\u001b[0;31mAttributeError\u001b[0m                            Traceback (most recent call last)",
            "\u001b[0;32m<ipython-input-18-3050530590>\u001b[0m in \u001b[0;36m<cell line: 0>\u001b[0;34m()\u001b[0m\n\u001b[1;32m      4\u001b[0m \u001b[0;34m\u001b[0m\u001b[0m\n\u001b[1;32m      5\u001b[0m \u001b[0mtuple1\u001b[0m\u001b[0;34m\u001b[0m\u001b[0;34m\u001b[0m\u001b[0m\n\u001b[0;32m----> 6\u001b[0;31m \u001b[0mtuple1\u001b[0m\u001b[0;34m.\u001b[0m\u001b[0mappend\u001b[0m\u001b[0;34m(\u001b[0m\u001b[0;36m9\u001b[0m\u001b[0;34m)\u001b[0m\u001b[0;34m\u001b[0m\u001b[0;34m\u001b[0m\u001b[0m\n\u001b[0m\u001b[1;32m      7\u001b[0m \u001b[0mtuple1\u001b[0m\u001b[0;34m\u001b[0m\u001b[0;34m\u001b[0m\u001b[0m\n",
            "\u001b[0;31mAttributeError\u001b[0m: 'tuple' object has no attribute 'append'"
          ]
        }
      ]
    },
    {
      "cell_type": "markdown",
      "source": [
        "7.Write a program that performs basic arithmetic operations on two user-input numbers."
      ],
      "metadata": {
        "id": "6n3_XU3pLZlK"
      }
    },
    {
      "cell_type": "code",
      "source": [
        "num1 = int(input(\"please enter num1 : \"))\n",
        "num2 = int(input(\"please enter num2 : \"))\n",
        "\n",
        "print(num1+num2)\n",
        "print(num1-num2)\n",
        "print(num1*num2)\n",
        "print(num1/num2)\n"
      ],
      "metadata": {
        "colab": {
          "base_uri": "https://localhost:8080/"
        },
        "id": "7mV9KLE7Lh4a",
        "outputId": "606dcd13-dac5-4f70-eae2-8f6786b2a741"
      },
      "execution_count": 24,
      "outputs": [
        {
          "output_type": "stream",
          "name": "stdout",
          "text": [
            "please enter num1 : 4\n",
            "please enter num2 : 5\n",
            "9\n",
            "-1\n",
            "20\n",
            "0.8\n"
          ]
        }
      ]
    },
    {
      "cell_type": "markdown",
      "source": [
        "8.Write a program to demonstrate the use of logical operators"
      ],
      "metadata": {
        "id": "Mx3WZCV9Mf8m"
      }
    },
    {
      "cell_type": "code",
      "source": [
        "a = 10\n",
        "b= -20\n",
        "if a >0 and b>0:\n",
        "    print(\"Both are positive numbers\")\n",
        "else:\n",
        "    print(\"One of the numbers is negative\")\n",
        "\n",
        "\n",
        "if a >0 or b>0:\n",
        "    print(\"true\")\n",
        "else:\n",
        "    print(\"false\")\n",
        "\n",
        "if not a>0:\n",
        "    print(\"true\")\n",
        "else:\n",
        "    print(\"false\")\n",
        "\n",
        "\n",
        "\n",
        "\n",
        "\n",
        "\n"
      ],
      "metadata": {
        "colab": {
          "base_uri": "https://localhost:8080/"
        },
        "id": "uTXBDeLHNhnq",
        "outputId": "e1b9d377-fb21-416c-fb6a-bc0494767d4a"
      },
      "execution_count": 33,
      "outputs": [
        {
          "output_type": "stream",
          "name": "stdout",
          "text": [
            "One of the numbers is negative\n",
            "true\n",
            "false\n"
          ]
        }
      ]
    },
    {
      "cell_type": "markdown",
      "source": [
        "9. Write a Python program to convert user input from string to integer, float, and boolean types"
      ],
      "metadata": {
        "id": "Cb5Bem_VPNT0"
      }
    },
    {
      "cell_type": "code",
      "source": [
        "user_input = input(\"enter the input: \")\n",
        "user_input_int = print(int(user_input))\n",
        "user_input_float =print(float(user_input))\n",
        "user_input_bool = print(bool(user_input))"
      ],
      "metadata": {
        "colab": {
          "base_uri": "https://localhost:8080/"
        },
        "id": "D2qVaQsBPP55",
        "outputId": "6bd22924-e2aa-4b61-8d53-2df657f7c491"
      },
      "execution_count": 36,
      "outputs": [
        {
          "output_type": "stream",
          "name": "stdout",
          "text": [
            "enter the input: 5\n",
            "5\n",
            "5.0\n",
            "True\n"
          ]
        }
      ]
    },
    {
      "cell_type": "markdown",
      "source": [
        "10. Write code to demonstrate type casting with list elements"
      ],
      "metadata": {
        "id": "9Mx2dOuJPrXJ"
      }
    },
    {
      "cell_type": "code",
      "source": [
        "list1 = [1,2,3,4,5,5]\n",
        "print(list1)\n",
        "tup1= tuple(list1)\n",
        "print(tup1)\n",
        "set1 = set(tup1)\n",
        "print(set1)"
      ],
      "metadata": {
        "colab": {
          "base_uri": "https://localhost:8080/"
        },
        "id": "ZN8wih5IP0fI",
        "outputId": "bee78fec-c097-4002-d8af-9148552caba0"
      },
      "execution_count": 39,
      "outputs": [
        {
          "output_type": "stream",
          "name": "stdout",
          "text": [
            "[1, 2, 3, 4, 5, 5]\n",
            "(1, 2, 3, 4, 5, 5)\n",
            "{1, 2, 3, 4, 5}\n"
          ]
        }
      ]
    },
    {
      "cell_type": "markdown",
      "source": [
        "11.Write a program that checks if a number is positive, negative, or zero."
      ],
      "metadata": {
        "id": "mMSyxZOfQRgU"
      }
    },
    {
      "cell_type": "code",
      "source": [
        "a = -10\n",
        "if a>0:\n",
        "  print(\"positive\")\n",
        "elif a<0:\n",
        "  print(\"negative\")\n",
        "else:\n",
        "  print(\"zero\")"
      ],
      "metadata": {
        "colab": {
          "base_uri": "https://localhost:8080/"
        },
        "id": "hKem7_PqQf29",
        "outputId": "23035987-4526-4b05-d849-829b58f800a5"
      },
      "execution_count": 40,
      "outputs": [
        {
          "output_type": "stream",
          "name": "stdout",
          "text": [
            "negative\n"
          ]
        }
      ]
    },
    {
      "cell_type": "markdown",
      "source": [
        "12.Write a for loop to print numbers from 1 to 10."
      ],
      "metadata": {
        "id": "fMJWZgxMQpSZ"
      }
    },
    {
      "cell_type": "code",
      "source": [
        "for num in range(1,11):\n",
        "  print(num)"
      ],
      "metadata": {
        "colab": {
          "base_uri": "https://localhost:8080/"
        },
        "id": "iqRGj5r1Qw2L",
        "outputId": "2e6366b0-5b5c-485f-ca9d-b917ec4a3eef"
      },
      "execution_count": 42,
      "outputs": [
        {
          "output_type": "stream",
          "name": "stdout",
          "text": [
            "1\n",
            "2\n",
            "3\n",
            "4\n",
            "5\n",
            "6\n",
            "7\n",
            "8\n",
            "9\n",
            "10\n"
          ]
        }
      ]
    },
    {
      "cell_type": "markdown",
      "source": [
        "13.Write a Python program to find the sum of all even numbers between 1 and 50."
      ],
      "metadata": {
        "id": "F4BLz8JzQ8d7"
      }
    },
    {
      "cell_type": "code",
      "source": [
        "sum= 0\n",
        "for i in range(1,51):\n",
        "  if i%2==0:\n",
        "    sum = sum+i\n",
        "print(sum)"
      ],
      "metadata": {
        "colab": {
          "base_uri": "https://localhost:8080/"
        },
        "id": "xGfYQBw-RFlc",
        "outputId": "7497b6f6-3c22-412b-b700-514a4dfd9635"
      },
      "execution_count": 43,
      "outputs": [
        {
          "output_type": "stream",
          "name": "stdout",
          "text": [
            "650\n"
          ]
        }
      ]
    },
    {
      "cell_type": "markdown",
      "source": [
        "14. Write a program to reverse a string using a while loop"
      ],
      "metadata": {
        "id": "fINkTPCrRTrW"
      }
    },
    {
      "cell_type": "code",
      "source": [
        "string1 = input(\"enter the string:\")\n",
        "len_string1 = len(string1)\n",
        "rev_string1 = \"\"\n",
        "while len_string1>0:\n",
        "  rev_string1 = rev_string1+string1[len_string1-1]\n",
        "  len_string1 = len_string1-1\n",
        "print(rev_string1)"
      ],
      "metadata": {
        "colab": {
          "base_uri": "https://localhost:8080/"
        },
        "id": "u9rIgdpcRaRX",
        "outputId": "5c0c4d2d-22cc-4ee7-e49e-bda7b943218f"
      },
      "execution_count": 45,
      "outputs": [
        {
          "output_type": "stream",
          "name": "stdout",
          "text": [
            "enter the string:dog\n",
            "god\n"
          ]
        }
      ]
    },
    {
      "cell_type": "markdown",
      "source": [
        "15.Write a Python program to calculate the factorial of a number provided by the user using a while loop."
      ],
      "metadata": {
        "id": "f2SApO-VR4jb"
      }
    },
    {
      "cell_type": "code",
      "source": [
        "number = int(input(\"enter the number: \"))\n",
        "fact = 1\n",
        "while number>0:\n",
        "  fact = fact*number\n",
        "  number = number-1\n",
        "print(fact)"
      ],
      "metadata": {
        "id": "HONZc4sNR_EV"
      },
      "execution_count": null,
      "outputs": []
    }
  ]
}